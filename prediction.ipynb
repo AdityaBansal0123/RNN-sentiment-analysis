{
 "cells": [
  {
   "cell_type": "code",
   "execution_count": 8,
   "metadata": {},
   "outputs": [],
   "source": [
    "import numpy as np\n",
    "import tensorflow as tf\n",
    "from tensorflow.keras.datasets import imdb\n",
    "from tensorflow.keras.preprocessing import sequence\n",
    "from tensorflow.keras.models import load_model"
   ]
  },
  {
   "cell_type": "code",
   "execution_count": 9,
   "metadata": {},
   "outputs": [],
   "source": [
    "word_index = imdb.get_word_index()\n",
    "reverse_word_index = {value: key for key, value in word_index.items()}"
   ]
  },
  {
   "cell_type": "code",
   "execution_count": 10,
   "metadata": {},
   "outputs": [
    {
     "name": "stderr",
     "output_type": "stream",
     "text": [
      "WARNING:absl:Compiled the loaded model, but the compiled metrics have yet to be built. `model.compile_metrics` will be empty until you train or evaluate the model.\n"
     ]
    },
    {
     "data": {
      "text/html": [
       "<pre style=\"white-space:pre;overflow-x:auto;line-height:normal;font-family:Menlo,'DejaVu Sans Mono',consolas,'Courier New',monospace\"><span style=\"font-weight: bold\">Model: \"sequential\"</span>\n",
       "</pre>\n"
      ],
      "text/plain": [
       "\u001b[1mModel: \"sequential\"\u001b[0m\n"
      ]
     },
     "metadata": {},
     "output_type": "display_data"
    },
    {
     "data": {
      "text/html": [
       "<pre style=\"white-space:pre;overflow-x:auto;line-height:normal;font-family:Menlo,'DejaVu Sans Mono',consolas,'Courier New',monospace\">┏━━━━━━━━━━━━━━━━━━━━━━━━━━━━━━━━━┳━━━━━━━━━━━━━━━━━━━━━━━━┳━━━━━━━━━━━━━━━┓\n",
       "┃<span style=\"font-weight: bold\"> Layer (type)                    </span>┃<span style=\"font-weight: bold\"> Output Shape           </span>┃<span style=\"font-weight: bold\">       Param # </span>┃\n",
       "┡━━━━━━━━━━━━━━━━━━━━━━━━━━━━━━━━━╇━━━━━━━━━━━━━━━━━━━━━━━━╇━━━━━━━━━━━━━━━┩\n",
       "│ embedding (<span style=\"color: #0087ff; text-decoration-color: #0087ff\">Embedding</span>)           │ (<span style=\"color: #00af00; text-decoration-color: #00af00\">32</span>, <span style=\"color: #00af00; text-decoration-color: #00af00\">500</span>, <span style=\"color: #00af00; text-decoration-color: #00af00\">128</span>)         │     <span style=\"color: #00af00; text-decoration-color: #00af00\">1,280,000</span> │\n",
       "├─────────────────────────────────┼────────────────────────┼───────────────┤\n",
       "│ simple_rnn (<span style=\"color: #0087ff; text-decoration-color: #0087ff\">SimpleRNN</span>)          │ (<span style=\"color: #00af00; text-decoration-color: #00af00\">32</span>, <span style=\"color: #00af00; text-decoration-color: #00af00\">128</span>)              │        <span style=\"color: #00af00; text-decoration-color: #00af00\">32,896</span> │\n",
       "├─────────────────────────────────┼────────────────────────┼───────────────┤\n",
       "│ dense (<span style=\"color: #0087ff; text-decoration-color: #0087ff\">Dense</span>)                   │ (<span style=\"color: #00af00; text-decoration-color: #00af00\">32</span>, <span style=\"color: #00af00; text-decoration-color: #00af00\">1</span>)                │           <span style=\"color: #00af00; text-decoration-color: #00af00\">129</span> │\n",
       "└─────────────────────────────────┴────────────────────────┴───────────────┘\n",
       "</pre>\n"
      ],
      "text/plain": [
       "┏━━━━━━━━━━━━━━━━━━━━━━━━━━━━━━━━━┳━━━━━━━━━━━━━━━━━━━━━━━━┳━━━━━━━━━━━━━━━┓\n",
       "┃\u001b[1m \u001b[0m\u001b[1mLayer (type)                   \u001b[0m\u001b[1m \u001b[0m┃\u001b[1m \u001b[0m\u001b[1mOutput Shape          \u001b[0m\u001b[1m \u001b[0m┃\u001b[1m \u001b[0m\u001b[1m      Param #\u001b[0m\u001b[1m \u001b[0m┃\n",
       "┡━━━━━━━━━━━━━━━━━━━━━━━━━━━━━━━━━╇━━━━━━━━━━━━━━━━━━━━━━━━╇━━━━━━━━━━━━━━━┩\n",
       "│ embedding (\u001b[38;5;33mEmbedding\u001b[0m)           │ (\u001b[38;5;34m32\u001b[0m, \u001b[38;5;34m500\u001b[0m, \u001b[38;5;34m128\u001b[0m)         │     \u001b[38;5;34m1,280,000\u001b[0m │\n",
       "├─────────────────────────────────┼────────────────────────┼───────────────┤\n",
       "│ simple_rnn (\u001b[38;5;33mSimpleRNN\u001b[0m)          │ (\u001b[38;5;34m32\u001b[0m, \u001b[38;5;34m128\u001b[0m)              │        \u001b[38;5;34m32,896\u001b[0m │\n",
       "├─────────────────────────────────┼────────────────────────┼───────────────┤\n",
       "│ dense (\u001b[38;5;33mDense\u001b[0m)                   │ (\u001b[38;5;34m32\u001b[0m, \u001b[38;5;34m1\u001b[0m)                │           \u001b[38;5;34m129\u001b[0m │\n",
       "└─────────────────────────────────┴────────────────────────┴───────────────┘\n"
      ]
     },
     "metadata": {},
     "output_type": "display_data"
    },
    {
     "data": {
      "text/html": [
       "<pre style=\"white-space:pre;overflow-x:auto;line-height:normal;font-family:Menlo,'DejaVu Sans Mono',consolas,'Courier New',monospace\"><span style=\"font-weight: bold\"> Total params: </span><span style=\"color: #00af00; text-decoration-color: #00af00\">1,313,027</span> (5.01 MB)\n",
       "</pre>\n"
      ],
      "text/plain": [
       "\u001b[1m Total params: \u001b[0m\u001b[38;5;34m1,313,027\u001b[0m (5.01 MB)\n"
      ]
     },
     "metadata": {},
     "output_type": "display_data"
    },
    {
     "data": {
      "text/html": [
       "<pre style=\"white-space:pre;overflow-x:auto;line-height:normal;font-family:Menlo,'DejaVu Sans Mono',consolas,'Courier New',monospace\"><span style=\"font-weight: bold\"> Trainable params: </span><span style=\"color: #00af00; text-decoration-color: #00af00\">1,313,025</span> (5.01 MB)\n",
       "</pre>\n"
      ],
      "text/plain": [
       "\u001b[1m Trainable params: \u001b[0m\u001b[38;5;34m1,313,025\u001b[0m (5.01 MB)\n"
      ]
     },
     "metadata": {},
     "output_type": "display_data"
    },
    {
     "data": {
      "text/html": [
       "<pre style=\"white-space:pre;overflow-x:auto;line-height:normal;font-family:Menlo,'DejaVu Sans Mono',consolas,'Courier New',monospace\"><span style=\"font-weight: bold\"> Non-trainable params: </span><span style=\"color: #00af00; text-decoration-color: #00af00\">0</span> (0.00 B)\n",
       "</pre>\n"
      ],
      "text/plain": [
       "\u001b[1m Non-trainable params: \u001b[0m\u001b[38;5;34m0\u001b[0m (0.00 B)\n"
      ]
     },
     "metadata": {},
     "output_type": "display_data"
    },
    {
     "data": {
      "text/html": [
       "<pre style=\"white-space:pre;overflow-x:auto;line-height:normal;font-family:Menlo,'DejaVu Sans Mono',consolas,'Courier New',monospace\"><span style=\"font-weight: bold\"> Optimizer params: </span><span style=\"color: #00af00; text-decoration-color: #00af00\">2</span> (12.00 B)\n",
       "</pre>\n"
      ],
      "text/plain": [
       "\u001b[1m Optimizer params: \u001b[0m\u001b[38;5;34m2\u001b[0m (12.00 B)\n"
      ]
     },
     "metadata": {},
     "output_type": "display_data"
    }
   ],
   "source": [
    "# Load the pre_trained model with Relu activation\n",
    "model = load_model('simple_rnn_imdb.h5')\n",
    "model.summary()"
   ]
  },
  {
   "cell_type": "code",
   "execution_count": 11,
   "metadata": {},
   "outputs": [
    {
     "data": {
      "text/plain": [
       "[array([[ 3.36682737e-01,  9.72613320e-02,  1.93052486e-01, ...,\n",
       "         -5.21271564e-02, -9.37927689e-05, -5.14210500e-02],\n",
       "        [-4.54600081e-02,  5.01431003e-02,  4.07751910e-02, ...,\n",
       "          1.72613580e-02, -5.99935167e-02, -1.82412844e-03],\n",
       "        [ 1.42762974e-01,  7.94158131e-02,  1.01078600e-01, ...,\n",
       "          2.06953287e-02, -9.58146006e-02,  6.29083961e-02],\n",
       "        ...,\n",
       "        [ 4.76145186e-02, -5.20124985e-03,  2.48964764e-02, ...,\n",
       "         -4.05094363e-02,  1.07185274e-01,  3.01023889e-02],\n",
       "        [-9.59579274e-02,  1.31858230e-01, -4.71994132e-02, ...,\n",
       "         -2.97561642e-02, -9.51699391e-02,  2.42671203e-02],\n",
       "        [ 3.06823552e-02,  1.24103408e-02,  5.30738719e-02, ...,\n",
       "         -8.27446654e-02,  1.24520227e-01,  2.74181529e-03]], dtype=float32),\n",
       " array([[ 0.13732931, -0.1952854 , -0.05406033, ...,  0.08196194,\n",
       "          0.00900987,  0.0716227 ],\n",
       "        [ 0.13310535,  0.01969803,  0.11085717, ..., -0.13273765,\n",
       "          0.17337255, -0.04171138],\n",
       "        [-0.12609495, -0.11463717, -0.127886  , ..., -0.06246335,\n",
       "         -0.00140185, -0.1591873 ],\n",
       "        ...,\n",
       "        [-0.13378718, -0.13239913, -0.12248641, ..., -0.02614712,\n",
       "          0.14137043, -0.14955   ],\n",
       "        [-0.09343175,  0.07352962, -0.08535311, ...,  0.05267795,\n",
       "          0.16541964,  0.03128142],\n",
       "        [-0.12912083, -0.18800935,  0.05659461, ...,  0.04571443,\n",
       "          0.02180574,  0.09186378]], dtype=float32),\n",
       " array([[-0.07848878, -0.02166574, -0.12172099, ..., -0.1631092 ,\n",
       "          0.10141146, -0.05746271],\n",
       "        [ 0.11008659,  0.07631305, -0.08241634, ...,  0.01072013,\n",
       "         -0.11923816, -0.16644537],\n",
       "        [-0.06063753,  0.07936195,  0.01634586, ..., -0.02795923,\n",
       "          0.03737885,  0.10461103],\n",
       "        ...,\n",
       "        [-0.12387832, -0.12030212, -0.0766035 , ..., -0.01308797,\n",
       "          0.0625161 , -0.00334993],\n",
       "        [ 0.1292047 , -0.17295581, -0.05422856, ..., -0.11836412,\n",
       "          0.16075708, -0.07050519],\n",
       "        [ 0.11743644, -0.01129759,  0.04206201, ...,  0.05772942,\n",
       "          0.01962217,  0.01239115]], dtype=float32),\n",
       " array([ 0.04436771,  0.00828964, -0.01334216, -0.0367427 , -0.01119785,\n",
       "         0.02392955,  0.03244304, -0.04033587, -0.02724108, -0.02603833,\n",
       "        -0.01061253,  0.01183888, -0.0206683 ,  0.01538819, -0.01846831,\n",
       "         0.01293266, -0.01243457,  0.00136387, -0.00536262, -0.01481699,\n",
       "        -0.02337568, -0.01289751, -0.02423904,  0.00967988, -0.0149949 ,\n",
       "        -0.01004488, -0.01502866, -0.00511252, -0.01341336, -0.02066058,\n",
       "         0.03614097, -0.0193186 , -0.00334566, -0.00718693, -0.01795423,\n",
       "        -0.01605159,  0.00466708, -0.00575165, -0.01142113, -0.01562333,\n",
       "        -0.00429177, -0.01351939, -0.00860185, -0.01709119,  0.03842792,\n",
       "        -0.01741856, -0.02309792,  0.0452483 , -0.00744292, -0.00233892,\n",
       "         0.03502464,  0.00586807, -0.02433313,  0.02258262, -0.02402698,\n",
       "         0.03652446, -0.0038923 , -0.00901196, -0.0047897 , -0.03757732,\n",
       "        -0.00478698, -0.01798537, -0.01440745,  0.01366535,  0.01882623,\n",
       "        -0.01142238, -0.00480258,  0.01129506,  0.00798753, -0.0454694 ,\n",
       "        -0.02564502, -0.02011154, -0.02714004, -0.03096952,  0.03703984,\n",
       "         0.00489118, -0.03383167, -0.01648802, -0.0081018 , -0.00632091,\n",
       "         0.00644962, -0.03266469, -0.01990495, -0.02112809, -0.00148539,\n",
       "         0.00238562,  0.02027316, -0.01861666,  0.00633048,  0.00217533,\n",
       "        -0.03582893, -0.02110866,  0.00191649, -0.01809791, -0.03928327,\n",
       "         0.00666274,  0.02436108, -0.01444841, -0.03991131, -0.03613471,\n",
       "        -0.00829453, -0.00161725, -0.02920907,  0.03991839, -0.03463143,\n",
       "         0.01041719,  0.00693425,  0.0041448 , -0.0444768 ,  0.00669142,\n",
       "        -0.0074742 , -0.02660506,  0.088851  ,  0.01104892,  0.01404204,\n",
       "        -0.01237618,  0.02530359, -0.02266792, -0.00166899,  0.01331571,\n",
       "        -0.02331829, -0.04264056, -0.0118132 , -0.01046525, -0.01287101,\n",
       "        -0.03531275,  0.04566203, -0.05732149], dtype=float32),\n",
       " array([[-0.1775196 ],\n",
       "        [-0.1867501 ],\n",
       "        [ 0.00158511],\n",
       "        [ 0.16056998],\n",
       "        [-0.21951218],\n",
       "        [-0.21948388],\n",
       "        [-0.02806997],\n",
       "        [ 0.07855159],\n",
       "        [ 0.00575422],\n",
       "        [ 0.14723228],\n",
       "        [ 0.19256812],\n",
       "        [-0.07649819],\n",
       "        [-0.21407275],\n",
       "        [-0.02428105],\n",
       "        [-0.01220458],\n",
       "        [ 0.10665896],\n",
       "        [ 0.2846762 ],\n",
       "        [ 0.21561553],\n",
       "        [ 0.13086504],\n",
       "        [-0.13298465],\n",
       "        [ 0.19588654],\n",
       "        [ 0.2015247 ],\n",
       "        [-0.01499647],\n",
       "        [-0.0556886 ],\n",
       "        [ 0.09863421],\n",
       "        [-0.2573004 ],\n",
       "        [ 0.04879026],\n",
       "        [-0.3707095 ],\n",
       "        [-0.03346692],\n",
       "        [-0.28359753],\n",
       "        [ 0.00839474],\n",
       "        [-0.23190254],\n",
       "        [-0.17657891],\n",
       "        [ 0.05288914],\n",
       "        [ 0.10648726],\n",
       "        [ 0.02686877],\n",
       "        [-0.06102384],\n",
       "        [-0.19467027],\n",
       "        [-0.17770004],\n",
       "        [-0.15118904],\n",
       "        [ 0.05624151],\n",
       "        [-0.06763209],\n",
       "        [ 0.06838458],\n",
       "        [-0.10341918],\n",
       "        [ 0.04704655],\n",
       "        [-0.04239326],\n",
       "        [ 0.07125783],\n",
       "        [-0.0565553 ],\n",
       "        [ 0.19294457],\n",
       "        [-0.09280261],\n",
       "        [-0.26560515],\n",
       "        [-0.08564278],\n",
       "        [-0.05727984],\n",
       "        [ 0.12275562],\n",
       "        [-0.19646564],\n",
       "        [-0.03406411],\n",
       "        [ 0.19087666],\n",
       "        [-0.05343199],\n",
       "        [-0.16955586],\n",
       "        [-0.11014608],\n",
       "        [ 0.10456476],\n",
       "        [ 0.07538072],\n",
       "        [-0.19283403],\n",
       "        [ 0.12445465],\n",
       "        [-0.01567495],\n",
       "        [ 0.16388723],\n",
       "        [-0.16241857],\n",
       "        [ 0.22230014],\n",
       "        [ 0.31839904],\n",
       "        [ 0.23582548],\n",
       "        [ 0.00899797],\n",
       "        [-0.11677385],\n",
       "        [ 0.14308432],\n",
       "        [-0.4290239 ],\n",
       "        [ 0.14199613],\n",
       "        [ 0.16366756],\n",
       "        [ 0.36805913],\n",
       "        [-0.06957837],\n",
       "        [ 0.14747724],\n",
       "        [-0.0559329 ],\n",
       "        [ 0.10596336],\n",
       "        [-0.08121461],\n",
       "        [-0.1590552 ],\n",
       "        [-0.26181668],\n",
       "        [-0.2504995 ],\n",
       "        [-0.02000571],\n",
       "        [ 0.08390135],\n",
       "        [-0.02096642],\n",
       "        [ 0.19695877],\n",
       "        [ 0.23657905],\n",
       "        [ 0.20627347],\n",
       "        [ 0.13694426],\n",
       "        [ 0.00199644],\n",
       "        [-0.20055565],\n",
       "        [ 0.03057772],\n",
       "        [-0.16818057],\n",
       "        [-0.2527852 ],\n",
       "        [-0.09412249],\n",
       "        [ 0.18268357],\n",
       "        [-0.12191409],\n",
       "        [ 0.24288225],\n",
       "        [ 0.12680414],\n",
       "        [-0.13943894],\n",
       "        [ 0.1919631 ],\n",
       "        [-0.06997377],\n",
       "        [ 0.05513429],\n",
       "        [ 0.19360645],\n",
       "        [-0.02013967],\n",
       "        [-0.6274157 ],\n",
       "        [-0.20549268],\n",
       "        [ 0.1637512 ],\n",
       "        [-0.1559917 ],\n",
       "        [ 0.00136069],\n",
       "        [ 0.10026549],\n",
       "        [-0.15066251],\n",
       "        [-0.08603761],\n",
       "        [ 0.85197306],\n",
       "        [-0.14909902],\n",
       "        [ 0.09760562],\n",
       "        [-0.12462262],\n",
       "        [-0.17279603],\n",
       "        [-0.09380151],\n",
       "        [-0.03249489],\n",
       "        [-0.1224464 ],\n",
       "        [-0.265237  ],\n",
       "        [-0.05526479],\n",
       "        [ 0.05766169],\n",
       "        [-0.21575294]], dtype=float32),\n",
       " array([-0.8617262], dtype=float32)]"
      ]
     },
     "execution_count": 11,
     "metadata": {},
     "output_type": "execute_result"
    }
   ],
   "source": [
    "model.get_weights()"
   ]
  },
  {
   "cell_type": "code",
   "execution_count": 12,
   "metadata": {},
   "outputs": [],
   "source": [
    "def decode_review(encoded_review):\n",
    "    return ' '.join([reverse_word_index.get(i-3,'?')for i in encoded_review])\n",
    "\n",
    "def preprocess_text(text):\n",
    "    words=text.lower().split()\n",
    "    encoded_review = [word_index.get(word,2)+3 for word in words]\n",
    "    padded_review = sequence.pad_sequences([encoded_review],maxlen=500)\n",
    "    return padded_review"
   ]
  },
  {
   "cell_type": "code",
   "execution_count": 13,
   "metadata": {},
   "outputs": [],
   "source": [
    "#prediction function\n",
    "\n",
    "def predict_sentiment(review):\n",
    "    preprocessed_input = preprocess_text(review)\n",
    "    prediction = model.predict(preprocessed_input)\n",
    "    sentiment = 'Positive' if prediction[0][0]>0.5 else 'Negative'\n",
    "    return sentiment,prediction[0][0]"
   ]
  },
  {
   "cell_type": "code",
   "execution_count": 14,
   "metadata": {},
   "outputs": [
    {
     "name": "stdout",
     "output_type": "stream",
     "text": [
      "\u001b[1m1/1\u001b[0m \u001b[32m━━━━━━━━━━━━━━━━━━━━\u001b[0m\u001b[37m\u001b[0m \u001b[1m0s\u001b[0m 110ms/step\n",
      "Review: This movie was fantastic! The acting was great and the plot was thrilling.\n",
      "Sentiment: Positive\n",
      "Prediction Score: 0.7486544847488403\n"
     ]
    }
   ],
   "source": [
    "# Step 4: User Input and Prediction\n",
    "# Example review for prediction\n",
    "example_review = \"This movie was fantastic! The acting was great and the plot was thrilling.\"\n",
    "\n",
    "sentiment,score=predict_sentiment(example_review)\n",
    "\n",
    "print(f'Review: {example_review}')\n",
    "print(f'Sentiment: {sentiment}')\n",
    "print(f'Prediction Score: {score}')"
   ]
  }
 ],
 "metadata": {
  "kernelspec": {
   "display_name": "Python 3",
   "language": "python",
   "name": "python3"
  },
  "language_info": {
   "codemirror_mode": {
    "name": "ipython",
    "version": 3
   },
   "file_extension": ".py",
   "mimetype": "text/x-python",
   "name": "python",
   "nbconvert_exporter": "python",
   "pygments_lexer": "ipython3",
   "version": "3.11.10"
  }
 },
 "nbformat": 4,
 "nbformat_minor": 2
}
